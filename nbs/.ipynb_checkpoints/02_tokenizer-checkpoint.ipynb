{
 "cells": [
  {
   "cell_type": "markdown",
   "id": "7f07dc59-0fe6-45db-9478-7d0ac6184a57",
   "metadata": {},
   "source": [
    "# Tokenizer"
   ]
  },
  {
   "cell_type": "code",
   "execution_count": null,
   "id": "1cb53fa2-081b-484b-9dfc-f6ea480601e9",
   "metadata": {},
   "outputs": [],
   "source": [
    "#| default_exp tokenizer"
   ]
  },
  {
   "cell_type": "code",
   "execution_count": null,
   "id": "6d1f9635-7c0a-4ff4-9a66-c9373bf6a1d0",
   "metadata": {},
   "outputs": [],
   "source": [
    "#| export\n",
    "from sentencepiece import SentencePieceProcessor\n",
    "from logging import getLogger\n",
    "from typing import List\n",
    "import os\n",
    "from torch import tensor\n",
    "logger = getLogger()"
   ]
  },
  {
   "cell_type": "code",
   "execution_count": null,
   "id": "b6af9ff9-fcd5-4b84-90c2-a6f088a92667",
   "metadata": {},
   "outputs": [],
   "source": [
    "#| export\n",
    "class Tokenizer:\n",
    "    def __init__(self, model_path: str):\n",
    "        # reload tokenizer\n",
    "        assert os.path.isfile(model_path), model_path\n",
    "        self.sp_model = SentencePieceProcessor(model_file=model_path)\n",
    "        logger.info(f\"Reloaded SentencePiece model from {model_path}\")\n",
    "\n",
    "        # BOS / EOS token IDs\n",
    "        self.n_words: int = self.sp_model.vocab_size()\n",
    "        self.bos_id: int = self.sp_model.bos_id()\n",
    "        self.eos_id: int = self.sp_model.eos_id()\n",
    "        self.pad_id: int = self.sp_model.pad_id()\n",
    "        logger.info(\n",
    "            f\"#words: {self.n_words} - BOS ID: {self.bos_id} - EOS ID: {self.eos_id}\"\n",
    "        )\n",
    "        assert self.sp_model.vocab_size() == self.sp_model.get_piece_size()\n",
    "\n",
    "    def encode(self, s: str, bos: bool, eos: bool) -> List[int]:\n",
    "        assert type(s) is str\n",
    "        t = self.sp_model.encode(s)\n",
    "        if bos:\n",
    "            t = [self.bos_id] + t\n",
    "        if eos:\n",
    "            t = t + [self.eos_id]\n",
    "        return t\n",
    "\n",
    "    def decode(self, t: List[int]) -> str:\n",
    "        return self.sp_model.decode(t)"
   ]
  },
  {
   "cell_type": "code",
   "execution_count": null,
   "id": "752f23cd-b6f4-45e9-870a-e09abc4ec946",
   "metadata": {},
   "outputs": [],
   "source": [
    "#| export\n",
    "def encode_to_tensor(tokenizer, prompt: [List[str], str], eos=True):\n",
    "    if type(prompt) == list: return [tensor(tokenizer.encode(p, bos=True, eos=eos)) for p in prompt]\n",
    "    else: return tensor(tokenizer.encode(prompt, bos=True, eos=eos))"
   ]
  },
  {
   "cell_type": "code",
   "execution_count": null,
   "id": "fd9ece1f-f32c-4843-8800-336527901fb4",
   "metadata": {},
   "outputs": [],
   "source": [
    "#| export\n",
    "def decode_tokens(tokenizer, tokens, prompt_tokens, max_gen_len):\n",
    "    decoded = []\n",
    "    for i, t in enumerate(tokens.tolist()):\n",
    "        # cut to max gen len\n",
    "        t = t[: len(prompt_tokens[i]) + max_gen_len]\n",
    "        # cut to eos tok if any\n",
    "        try:\n",
    "            t = t[: t.index(tokenizer.eos_id)]\n",
    "        except ValueError:\n",
    "            pass\n",
    "        decoded.append(tokenizer.decode(t))\n",
    "    return decoded"
   ]
  },
  {
   "cell_type": "code",
   "execution_count": null,
   "id": "dfa60e8f-e68e-4c8f-a90d-4a01f927b698",
   "metadata": {},
   "outputs": [],
   "source": [
    "#| hide\n",
    "import nbdev; nbdev.nbdev_export()"
   ]
  },
  {
   "cell_type": "code",
   "execution_count": null,
   "id": "b7487e0b-c4a7-4c2e-89db-9d238222d340",
   "metadata": {},
   "outputs": [],
   "source": []
  }
 ],
 "metadata": {
  "kernelspec": {
   "display_name": "main_env",
   "language": "python",
   "name": "main_env"
  }
 },
 "nbformat": 4,
 "nbformat_minor": 5
}
